{
  "metadata": {
    "kernelspec": {
      "language": "python",
      "display_name": "Python 3",
      "name": "python3"
    },
    "language_info": {
      "name": "python",
      "version": "3.11.13",
      "mimetype": "text/x-python",
      "codemirror_mode": {
        "name": "ipython",
        "version": 3
      },
      "pygments_lexer": "ipython3",
      "nbconvert_exporter": "python",
      "file_extension": ".py"
    },
    "kaggle": {
      "accelerator": "none",
      "dataSources": [
        {
          "sourceId": 5929113,
          "sourceType": "datasetVersion",
          "datasetId": 3404076
        }
      ],
      "dockerImageVersionId": 31153,
      "isInternetEnabled": false,
      "language": "python",
      "sourceType": "notebook",
      "isGpuEnabled": false
    },
    "colab": {
      "provenance": [],
      "include_colab_link": true
    }
  },
  "nbformat_minor": 0,
  "nbformat": 4,
  "cells": [
    {
      "cell_type": "markdown",
      "metadata": {
        "id": "view-in-github",
        "colab_type": "text"
      },
      "source": [
        "<a href=\"https://colab.research.google.com/github/BurhanAmir/Machine-Learning-Project/blob/main/kaggleTestedNotebook1_2.ipynb\" target=\"_parent\"><img src=\"https://colab.research.google.com/assets/colab-badge.svg\" alt=\"Open In Colab\"/></a>"
      ]
    },
    {
      "source": [
        "# IMPORTANT: RUN THIS CELL IN ORDER TO IMPORT YOUR KAGGLE DATA SOURCES,\n",
        "# THEN FEEL FREE TO DELETE THIS CELL.\n",
        "# NOTE: THIS NOTEBOOK ENVIRONMENT DIFFERS FROM KAGGLE'S PYTHON\n",
        "# ENVIRONMENT SO THERE MAY BE MISSING LIBRARIES USED BY YOUR\n",
        "# NOTEBOOK.\n",
        "import kagglehub\n",
        "muhammadshahidazeem_customer_churn_dataset_path = kagglehub.dataset_download('muhammadshahidazeem/customer-churn-dataset')\n",
        "\n",
        "print('Data source import complete.')\n"
      ],
      "metadata": {
        "id": "CdQJYOdaQWYA"
      },
      "cell_type": "code",
      "outputs": [],
      "execution_count": null
    },
    {
      "cell_type": "code",
      "source": [
        "import pandas as pd\n",
        "import numpy as np\n",
        "import matplotlib.pyplot as plt\n",
        "import seaborn as sns\n",
        "\n",
        "import warnings\n",
        "warnings.filterwarnings('ignore')\n",
        "\n",
        "from datetime import datetime\n",
        "\n",
        "\n",
        "from sklearn.model_selection import train_test_split, StratifiedKFold, cross_val_score, RandomizedSearchCV\n",
        "from sklearn.pipeline import Pipeline\n",
        "from sklearn.compose import ColumnTransformer\n",
        "from sklearn.impute import SimpleImputer\n",
        "from sklearn.preprocessing import OneHotEncoder, StandardScaler,LabelEncoder\n",
        "from sklearn.linear_model import LogisticRegression\n",
        "from sklearn.ensemble import RandomForestClassifier, GradientBoostingClassifier, HistGradientBoostingClassifier\n",
        "from sklearn.metrics import (accuracy_score, precision_score, recall_score, f1_score, roc_auc_score,\n",
        "roc_curve, confusion_matrix, classification_report, precision_recall_curve)\n",
        "from sklearn.inspection import permutation_importance\n",
        "import joblib\n",
        "import re\n",
        "import os\n",
        "\n",
        "RANDOM_STATE = 42\n",
        "np.random.seed(RANDOM_STATE)"
      ],
      "metadata": {
        "trusted": true,
        "execution": {
          "iopub.status.busy": "2025-10-16T17:07:22.313469Z",
          "iopub.execute_input": "2025-10-16T17:07:22.313895Z",
          "iopub.status.idle": "2025-10-16T17:07:22.320216Z",
          "shell.execute_reply.started": "2025-10-16T17:07:22.313868Z",
          "shell.execute_reply": "2025-10-16T17:07:22.319297Z"
        },
        "id": "SzAaeBDxQWYB"
      },
      "outputs": [],
      "execution_count": null
    },
    {
      "cell_type": "code",
      "source": [
        "df=pd.read_csv('/kaggle/input/customer-churn-dataset/customer_churn_dataset-testing-master.csv')\n",
        "df.head()"
      ],
      "metadata": {
        "trusted": true,
        "execution": {
          "iopub.status.busy": "2025-10-16T17:07:38.867165Z",
          "iopub.execute_input": "2025-10-16T17:07:38.86743Z",
          "iopub.status.idle": "2025-10-16T17:07:39.060845Z",
          "shell.execute_reply.started": "2025-10-16T17:07:38.867409Z",
          "shell.execute_reply": "2025-10-16T17:07:39.059998Z"
        },
        "id": "bVg4wZ2UQWYB",
        "outputId": "6f63e054-6907-4935-f654-b5c17cfc04bf"
      },
      "outputs": [
        {
          "execution_count": 7,
          "output_type": "execute_result",
          "data": {
            "text/plain": "   CustomerID  Age  Gender  Tenure  Usage Frequency  Support Calls  \\\n0           1   22  Female      25               14              4   \n1           2   41  Female      28               28              7   \n2           3   47    Male      27               10              2   \n3           4   35    Male       9               12              5   \n4           5   53  Female      58               24              9   \n\n   Payment Delay Subscription Type Contract Length  Total Spend  \\\n0             27             Basic         Monthly          598   \n1             13          Standard         Monthly          584   \n2             29           Premium          Annual          757   \n3             17           Premium       Quarterly          232   \n4              2          Standard          Annual          533   \n\n   Last Interaction  Churn  \n0                 9      1  \n1                20      0  \n2                21      0  \n3                18      0  \n4                18      0  ",
            "text/html": "<div>\n<style scoped>\n    .dataframe tbody tr th:only-of-type {\n        vertical-align: middle;\n    }\n\n    .dataframe tbody tr th {\n        vertical-align: top;\n    }\n\n    .dataframe thead th {\n        text-align: right;\n    }\n</style>\n<table border=\"1\" class=\"dataframe\">\n  <thead>\n    <tr style=\"text-align: right;\">\n      <th></th>\n      <th>CustomerID</th>\n      <th>Age</th>\n      <th>Gender</th>\n      <th>Tenure</th>\n      <th>Usage Frequency</th>\n      <th>Support Calls</th>\n      <th>Payment Delay</th>\n      <th>Subscription Type</th>\n      <th>Contract Length</th>\n      <th>Total Spend</th>\n      <th>Last Interaction</th>\n      <th>Churn</th>\n    </tr>\n  </thead>\n  <tbody>\n    <tr>\n      <th>0</th>\n      <td>1</td>\n      <td>22</td>\n      <td>Female</td>\n      <td>25</td>\n      <td>14</td>\n      <td>4</td>\n      <td>27</td>\n      <td>Basic</td>\n      <td>Monthly</td>\n      <td>598</td>\n      <td>9</td>\n      <td>1</td>\n    </tr>\n    <tr>\n      <th>1</th>\n      <td>2</td>\n      <td>41</td>\n      <td>Female</td>\n      <td>28</td>\n      <td>28</td>\n      <td>7</td>\n      <td>13</td>\n      <td>Standard</td>\n      <td>Monthly</td>\n      <td>584</td>\n      <td>20</td>\n      <td>0</td>\n    </tr>\n    <tr>\n      <th>2</th>\n      <td>3</td>\n      <td>47</td>\n      <td>Male</td>\n      <td>27</td>\n      <td>10</td>\n      <td>2</td>\n      <td>29</td>\n      <td>Premium</td>\n      <td>Annual</td>\n      <td>757</td>\n      <td>21</td>\n      <td>0</td>\n    </tr>\n    <tr>\n      <th>3</th>\n      <td>4</td>\n      <td>35</td>\n      <td>Male</td>\n      <td>9</td>\n      <td>12</td>\n      <td>5</td>\n      <td>17</td>\n      <td>Premium</td>\n      <td>Quarterly</td>\n      <td>232</td>\n      <td>18</td>\n      <td>0</td>\n    </tr>\n    <tr>\n      <th>4</th>\n      <td>5</td>\n      <td>53</td>\n      <td>Female</td>\n      <td>58</td>\n      <td>24</td>\n      <td>9</td>\n      <td>2</td>\n      <td>Standard</td>\n      <td>Annual</td>\n      <td>533</td>\n      <td>18</td>\n      <td>0</td>\n    </tr>\n  </tbody>\n</table>\n</div>"
          },
          "metadata": {}
        }
      ],
      "execution_count": null
    },
    {
      "cell_type": "code",
      "source": [
        "df.shape"
      ],
      "metadata": {
        "trusted": true,
        "execution": {
          "iopub.status.busy": "2025-10-16T17:07:52.580196Z",
          "iopub.execute_input": "2025-10-16T17:07:52.580495Z",
          "iopub.status.idle": "2025-10-16T17:07:52.586242Z",
          "shell.execute_reply.started": "2025-10-16T17:07:52.580468Z",
          "shell.execute_reply": "2025-10-16T17:07:52.585467Z"
        },
        "id": "zmL31XqkQWYC",
        "outputId": "84cbc42d-a677-4f81-f832-a871273487fd"
      },
      "outputs": [
        {
          "execution_count": 8,
          "output_type": "execute_result",
          "data": {
            "text/plain": "(64374, 12)"
          },
          "metadata": {}
        }
      ],
      "execution_count": null
    },
    {
      "cell_type": "code",
      "source": [
        "df.columns"
      ],
      "metadata": {
        "trusted": true,
        "execution": {
          "iopub.status.busy": "2025-10-16T17:08:02.861324Z",
          "iopub.execute_input": "2025-10-16T17:08:02.861683Z",
          "iopub.status.idle": "2025-10-16T17:08:02.869181Z",
          "shell.execute_reply.started": "2025-10-16T17:08:02.861653Z",
          "shell.execute_reply": "2025-10-16T17:08:02.868118Z"
        },
        "id": "4SqqGTLpQWYC",
        "outputId": "bbc19859-5dad-42b0-d24f-7935a7904283"
      },
      "outputs": [
        {
          "execution_count": 9,
          "output_type": "execute_result",
          "data": {
            "text/plain": "Index(['CustomerID', 'Age', 'Gender', 'Tenure', 'Usage Frequency',\n       'Support Calls', 'Payment Delay', 'Subscription Type',\n       'Contract Length', 'Total Spend', 'Last Interaction', 'Churn'],\n      dtype='object')"
          },
          "metadata": {}
        }
      ],
      "execution_count": null
    },
    {
      "cell_type": "code",
      "source": [
        "# Checking the Missing Values\n",
        "\n",
        "df.isnull().sum()"
      ],
      "metadata": {
        "trusted": true,
        "execution": {
          "iopub.status.busy": "2025-10-16T17:08:19.382097Z",
          "iopub.execute_input": "2025-10-16T17:08:19.382363Z",
          "iopub.status.idle": "2025-10-16T17:08:19.400105Z",
          "shell.execute_reply.started": "2025-10-16T17:08:19.382343Z",
          "shell.execute_reply": "2025-10-16T17:08:19.399202Z"
        },
        "id": "RbrM9kd1QWYC",
        "outputId": "e1a5628d-2882-4862-80db-800d4db7ddda"
      },
      "outputs": [
        {
          "execution_count": 10,
          "output_type": "execute_result",
          "data": {
            "text/plain": "CustomerID           0\nAge                  0\nGender               0\nTenure               0\nUsage Frequency      0\nSupport Calls        0\nPayment Delay        0\nSubscription Type    0\nContract Length      0\nTotal Spend          0\nLast Interaction     0\nChurn                0\ndtype: int64"
          },
          "metadata": {}
        }
      ],
      "execution_count": null
    },
    {
      "cell_type": "code",
      "source": [
        "df.info()"
      ],
      "metadata": {
        "trusted": true,
        "execution": {
          "iopub.status.busy": "2025-10-16T17:08:30.099509Z",
          "iopub.execute_input": "2025-10-16T17:08:30.09988Z",
          "iopub.status.idle": "2025-10-16T17:08:30.133303Z",
          "shell.execute_reply.started": "2025-10-16T17:08:30.09985Z",
          "shell.execute_reply": "2025-10-16T17:08:30.132284Z"
        },
        "id": "BH8b0p0PQWYC",
        "outputId": "b75fe8c8-dea3-4969-b579-5b6c6b57a759"
      },
      "outputs": [
        {
          "name": "stdout",
          "text": "<class 'pandas.core.frame.DataFrame'>\nRangeIndex: 64374 entries, 0 to 64373\nData columns (total 12 columns):\n #   Column             Non-Null Count  Dtype \n---  ------             --------------  ----- \n 0   CustomerID         64374 non-null  int64 \n 1   Age                64374 non-null  int64 \n 2   Gender             64374 non-null  object\n 3   Tenure             64374 non-null  int64 \n 4   Usage Frequency    64374 non-null  int64 \n 5   Support Calls      64374 non-null  int64 \n 6   Payment Delay      64374 non-null  int64 \n 7   Subscription Type  64374 non-null  object\n 8   Contract Length    64374 non-null  object\n 9   Total Spend        64374 non-null  int64 \n 10  Last Interaction   64374 non-null  int64 \n 11  Churn              64374 non-null  int64 \ndtypes: int64(9), object(3)\nmemory usage: 5.9+ MB\n",
          "output_type": "stream"
        }
      ],
      "execution_count": null
    },
    {
      "cell_type": "code",
      "source": [
        "df.head(100)"
      ],
      "metadata": {
        "trusted": true,
        "execution": {
          "iopub.status.busy": "2025-10-16T17:09:01.510667Z",
          "iopub.execute_input": "2025-10-16T17:09:01.511442Z",
          "iopub.status.idle": "2025-10-16T17:09:01.527231Z",
          "shell.execute_reply.started": "2025-10-16T17:09:01.5114Z",
          "shell.execute_reply": "2025-10-16T17:09:01.526296Z"
        },
        "id": "u2xZ8NE9QWYD",
        "outputId": "0674ae16-b0fb-4c55-c0b6-c18d7478c353"
      },
      "outputs": [
        {
          "execution_count": 14,
          "output_type": "execute_result",
          "data": {
            "text/plain": "    CustomerID  Age  Gender  Tenure  Usage Frequency  Support Calls  \\\n0            1   22  Female      25               14              4   \n1            2   41  Female      28               28              7   \n2            3   47    Male      27               10              2   \n3            4   35    Male       9               12              5   \n4            5   53  Female      58               24              9   \n..         ...  ...     ...     ...              ...            ...   \n95          96   36  Female      42               18              8   \n96          97   20    Male      32                7              5   \n97          98   58    Male      21               28             10   \n98          99   65    Male      21                3              5   \n99         100   40    Male       6               26             10   \n\n    Payment Delay Subscription Type Contract Length  Total Spend  \\\n0              27             Basic         Monthly          598   \n1              13          Standard         Monthly          584   \n2              29           Premium          Annual          757   \n3              17           Premium       Quarterly          232   \n4               2          Standard          Annual          533   \n..            ...               ...             ...          ...   \n95              6           Premium       Quarterly          322   \n96             14             Basic          Annual          920   \n97              2             Basic          Annual          894   \n98             20          Standard       Quarterly          570   \n99              0             Basic          Annual          632   \n\n    Last Interaction  Churn  \n0                  9      1  \n1                 20      0  \n2                 21      0  \n3                 18      0  \n4                 18      0  \n..               ...    ...  \n95                10      0  \n96                28      0  \n97                28      0  \n98                 1      1  \n99                 5      0  \n\n[100 rows x 12 columns]",
            "text/html": "<div>\n<style scoped>\n    .dataframe tbody tr th:only-of-type {\n        vertical-align: middle;\n    }\n\n    .dataframe tbody tr th {\n        vertical-align: top;\n    }\n\n    .dataframe thead th {\n        text-align: right;\n    }\n</style>\n<table border=\"1\" class=\"dataframe\">\n  <thead>\n    <tr style=\"text-align: right;\">\n      <th></th>\n      <th>CustomerID</th>\n      <th>Age</th>\n      <th>Gender</th>\n      <th>Tenure</th>\n      <th>Usage Frequency</th>\n      <th>Support Calls</th>\n      <th>Payment Delay</th>\n      <th>Subscription Type</th>\n      <th>Contract Length</th>\n      <th>Total Spend</th>\n      <th>Last Interaction</th>\n      <th>Churn</th>\n    </tr>\n  </thead>\n  <tbody>\n    <tr>\n      <th>0</th>\n      <td>1</td>\n      <td>22</td>\n      <td>Female</td>\n      <td>25</td>\n      <td>14</td>\n      <td>4</td>\n      <td>27</td>\n      <td>Basic</td>\n      <td>Monthly</td>\n      <td>598</td>\n      <td>9</td>\n      <td>1</td>\n    </tr>\n    <tr>\n      <th>1</th>\n      <td>2</td>\n      <td>41</td>\n      <td>Female</td>\n      <td>28</td>\n      <td>28</td>\n      <td>7</td>\n      <td>13</td>\n      <td>Standard</td>\n      <td>Monthly</td>\n      <td>584</td>\n      <td>20</td>\n      <td>0</td>\n    </tr>\n    <tr>\n      <th>2</th>\n      <td>3</td>\n      <td>47</td>\n      <td>Male</td>\n      <td>27</td>\n      <td>10</td>\n      <td>2</td>\n      <td>29</td>\n      <td>Premium</td>\n      <td>Annual</td>\n      <td>757</td>\n      <td>21</td>\n      <td>0</td>\n    </tr>\n    <tr>\n      <th>3</th>\n      <td>4</td>\n      <td>35</td>\n      <td>Male</td>\n      <td>9</td>\n      <td>12</td>\n      <td>5</td>\n      <td>17</td>\n      <td>Premium</td>\n      <td>Quarterly</td>\n      <td>232</td>\n      <td>18</td>\n      <td>0</td>\n    </tr>\n    <tr>\n      <th>4</th>\n      <td>5</td>\n      <td>53</td>\n      <td>Female</td>\n      <td>58</td>\n      <td>24</td>\n      <td>9</td>\n      <td>2</td>\n      <td>Standard</td>\n      <td>Annual</td>\n      <td>533</td>\n      <td>18</td>\n      <td>0</td>\n    </tr>\n    <tr>\n      <th>...</th>\n      <td>...</td>\n      <td>...</td>\n      <td>...</td>\n      <td>...</td>\n      <td>...</td>\n      <td>...</td>\n      <td>...</td>\n      <td>...</td>\n      <td>...</td>\n      <td>...</td>\n      <td>...</td>\n      <td>...</td>\n    </tr>\n    <tr>\n      <th>95</th>\n      <td>96</td>\n      <td>36</td>\n      <td>Female</td>\n      <td>42</td>\n      <td>18</td>\n      <td>8</td>\n      <td>6</td>\n      <td>Premium</td>\n      <td>Quarterly</td>\n      <td>322</td>\n      <td>10</td>\n      <td>0</td>\n    </tr>\n    <tr>\n      <th>96</th>\n      <td>97</td>\n      <td>20</td>\n      <td>Male</td>\n      <td>32</td>\n      <td>7</td>\n      <td>5</td>\n      <td>14</td>\n      <td>Basic</td>\n      <td>Annual</td>\n      <td>920</td>\n      <td>28</td>\n      <td>0</td>\n    </tr>\n    <tr>\n      <th>97</th>\n      <td>98</td>\n      <td>58</td>\n      <td>Male</td>\n      <td>21</td>\n      <td>28</td>\n      <td>10</td>\n      <td>2</td>\n      <td>Basic</td>\n      <td>Annual</td>\n      <td>894</td>\n      <td>28</td>\n      <td>0</td>\n    </tr>\n    <tr>\n      <th>98</th>\n      <td>99</td>\n      <td>65</td>\n      <td>Male</td>\n      <td>21</td>\n      <td>3</td>\n      <td>5</td>\n      <td>20</td>\n      <td>Standard</td>\n      <td>Quarterly</td>\n      <td>570</td>\n      <td>1</td>\n      <td>1</td>\n    </tr>\n    <tr>\n      <th>99</th>\n      <td>100</td>\n      <td>40</td>\n      <td>Male</td>\n      <td>6</td>\n      <td>26</td>\n      <td>10</td>\n      <td>0</td>\n      <td>Basic</td>\n      <td>Annual</td>\n      <td>632</td>\n      <td>5</td>\n      <td>0</td>\n    </tr>\n  </tbody>\n</table>\n<p>100 rows × 12 columns</p>\n</div>"
          },
          "metadata": {}
        }
      ],
      "execution_count": null
    },
    {
      "cell_type": "code",
      "source": [
        "# Plot churn distribution\n",
        "plt.figure(figsize=(5,4))\n",
        "df['Churn'].value_counts().plot(kind='bar')\n",
        "plt.title('Churn distribution')\n",
        "plt.xlabel('Churn')\n",
        "plt.ylabel('Count')\n",
        "plt.tight_layout()\n",
        "plt.show()"
      ],
      "metadata": {
        "trusted": true,
        "execution": {
          "iopub.status.busy": "2025-10-16T17:09:29.889937Z",
          "iopub.execute_input": "2025-10-16T17:09:29.890211Z",
          "iopub.status.idle": "2025-10-16T17:09:30.185642Z",
          "shell.execute_reply.started": "2025-10-16T17:09:29.890193Z",
          "shell.execute_reply": "2025-10-16T17:09:30.184781Z"
        },
        "id": "u0JqkbziQWYD",
        "outputId": "ca034622-3c15-4435-b8a7-e60761502bc9"
      },
      "outputs": [
        {
          "output_type": "display_data",
          "data": {
            "text/plain": "<Figure size 500x400 with 1 Axes>",
            "image/png": "[encoded data removed]"
          },
          "metadata": {}
        }
      ],
      "execution_count": null
    },
    {
      "cell_type": "code",
      "source": [
        "# Changing columns name to smaller\n",
        "df.columns=df.columns.str.replace(' ','_').str.lower()\n",
        "df.columns"
      ],
      "metadata": {
        "trusted": true,
        "execution": {
          "iopub.status.busy": "2025-10-16T17:09:47.048366Z",
          "iopub.execute_input": "2025-10-16T17:09:47.049242Z",
          "iopub.status.idle": "2025-10-16T17:09:47.055678Z",
          "shell.execute_reply.started": "2025-10-16T17:09:47.049209Z",
          "shell.execute_reply": "2025-10-16T17:09:47.054653Z"
        },
        "id": "-kESMbkmQWYD",
        "outputId": "53fe40b6-fe65-44a8-b282-9d789260be78"
      },
      "outputs": [
        {
          "execution_count": 16,
          "output_type": "execute_result",
          "data": {
            "text/plain": "Index(['customerid', 'age', 'gender', 'tenure', 'usage_frequency',\n       'support_calls', 'payment_delay', 'subscription_type',\n       'contract_length', 'total_spend', 'last_interaction', 'churn'],\n      dtype='object')"
          },
          "metadata": {}
        }
      ],
      "execution_count": null
    },
    {
      "cell_type": "code",
      "source": [
        "# Checking the Object column\n",
        "df.select_dtypes(include='object').columns"
      ],
      "metadata": {
        "trusted": true,
        "execution": {
          "iopub.status.busy": "2025-10-16T17:10:11.241085Z",
          "iopub.execute_input": "2025-10-16T17:10:11.241655Z",
          "iopub.status.idle": "2025-10-16T17:10:11.248172Z",
          "shell.execute_reply.started": "2025-10-16T17:10:11.241624Z",
          "shell.execute_reply": "2025-10-16T17:10:11.24726Z"
        },
        "id": "ZM4jDlIrQWYD",
        "outputId": "f94f8be7-c706-4330-f371-beb471046a26"
      },
      "outputs": [
        {
          "execution_count": 17,
          "output_type": "execute_result",
          "data": {
            "text/plain": "Index(['gender', 'subscription_type', 'contract_length'], dtype='object')"
          },
          "metadata": {}
        }
      ],
      "execution_count": null
    },
    {
      "cell_type": "code",
      "source": [
        "print(df['gender'].unique())\n",
        "print(\"------------------------\")\n",
        "print(df['subscription_type'].unique())\n",
        "print(\"------------------------\")\n",
        "print(df['contract_length'].unique())\n",
        "print(\"------------------------\")"
      ],
      "metadata": {
        "trusted": true,
        "execution": {
          "iopub.status.busy": "2025-10-16T17:10:31.37248Z",
          "iopub.execute_input": "2025-10-16T17:10:31.372811Z",
          "iopub.status.idle": "2025-10-16T17:10:31.389501Z",
          "shell.execute_reply.started": "2025-10-16T17:10:31.372783Z",
          "shell.execute_reply": "2025-10-16T17:10:31.388481Z"
        },
        "id": "NjX4aoY0QWYD",
        "outputId": "ebdaa6a0-839d-402c-881b-5183a51ed64f"
      },
      "outputs": [
        {
          "name": "stdout",
          "text": "['Female' 'Male']\n------------------------\n['Basic' 'Standard' 'Premium']\n------------------------\n['Monthly' 'Annual' 'Quarterly']\n------------------------\n",
          "output_type": "stream"
        }
      ],
      "execution_count": null
    },
    {
      "cell_type": "code",
      "source": [
        "df.head()"
      ],
      "metadata": {
        "trusted": true,
        "execution": {
          "iopub.status.busy": "2025-10-16T17:10:44.777536Z",
          "iopub.execute_input": "2025-10-16T17:10:44.777892Z",
          "iopub.status.idle": "2025-10-16T17:10:44.789504Z",
          "shell.execute_reply.started": "2025-10-16T17:10:44.777867Z",
          "shell.execute_reply": "2025-10-16T17:10:44.788786Z"
        },
        "id": "y-Ru3ZLdQWYE",
        "outputId": "367d431f-5054-4d0b-b6ac-6a9ea7e0b2d4"
      },
      "outputs": [
        {
          "execution_count": 19,
          "output_type": "execute_result",
          "data": {
            "text/plain": "   customerid  age  gender  tenure  usage_frequency  support_calls  \\\n0           1   22  Female      25               14              4   \n1           2   41  Female      28               28              7   \n2           3   47    Male      27               10              2   \n3           4   35    Male       9               12              5   \n4           5   53  Female      58               24              9   \n\n   payment_delay subscription_type contract_length  total_spend  \\\n0             27             Basic         Monthly          598   \n1             13          Standard         Monthly          584   \n2             29           Premium          Annual          757   \n3             17           Premium       Quarterly          232   \n4              2          Standard          Annual          533   \n\n   last_interaction  churn  \n0                 9      1  \n1                20      0  \n2                21      0  \n3                18      0  \n4                18      0  ",
            "text/html": "<div>\n<style scoped>\n    .dataframe tbody tr th:only-of-type {\n        vertical-align: middle;\n    }\n\n    .dataframe tbody tr th {\n        vertical-align: top;\n    }\n\n    .dataframe thead th {\n        text-align: right;\n    }\n</style>\n<table border=\"1\" class=\"dataframe\">\n  <thead>\n    <tr style=\"text-align: right;\">\n      <th></th>\n      <th>customerid</th>\n      <th>age</th>\n      <th>gender</th>\n      <th>tenure</th>\n      <th>usage_frequency</th>\n      <th>support_calls</th>\n      <th>payment_delay</th>\n      <th>subscription_type</th>\n      <th>contract_length</th>\n      <th>total_spend</th>\n      <th>last_interaction</th>\n      <th>churn</th>\n    </tr>\n  </thead>\n  <tbody>\n    <tr>\n      <th>0</th>\n      <td>1</td>\n      <td>22</td>\n      <td>Female</td>\n      <td>25</td>\n      <td>14</td>\n      <td>4</td>\n      <td>27</td>\n      <td>Basic</td>\n      <td>Monthly</td>\n      <td>598</td>\n      <td>9</td>\n      <td>1</td>\n    </tr>\n    <tr>\n      <th>1</th>\n      <td>2</td>\n      <td>41</td>\n      <td>Female</td>\n      <td>28</td>\n      <td>28</td>\n      <td>7</td>\n      <td>13</td>\n      <td>Standard</td>\n      <td>Monthly</td>\n      <td>584</td>\n      <td>20</td>\n      <td>0</td>\n    </tr>\n    <tr>\n      <th>2</th>\n      <td>3</td>\n      <td>47</td>\n      <td>Male</td>\n      <td>27</td>\n      <td>10</td>\n      <td>2</td>\n      <td>29</td>\n      <td>Premium</td>\n      <td>Annual</td>\n      <td>757</td>\n      <td>21</td>\n      <td>0</td>\n    </tr>\n    <tr>\n      <th>3</th>\n      <td>4</td>\n      <td>35</td>\n      <td>Male</td>\n      <td>9</td>\n      <td>12</td>\n      <td>5</td>\n      <td>17</td>\n      <td>Premium</td>\n      <td>Quarterly</td>\n      <td>232</td>\n      <td>18</td>\n      <td>0</td>\n    </tr>\n    <tr>\n      <th>4</th>\n      <td>5</td>\n      <td>53</td>\n      <td>Female</td>\n      <td>58</td>\n      <td>24</td>\n      <td>9</td>\n      <td>2</td>\n      <td>Standard</td>\n      <td>Annual</td>\n      <td>533</td>\n      <td>18</td>\n      <td>0</td>\n    </tr>\n  </tbody>\n</table>\n</div>"
          },
          "metadata": {}
        }
      ],
      "execution_count": null
    },
    {
      "cell_type": "code",
      "source": [
        "df.info()"
      ],
      "metadata": {
        "trusted": true,
        "execution": {
          "iopub.status.busy": "2025-10-16T17:12:37.441457Z",
          "iopub.execute_input": "2025-10-16T17:12:37.441843Z",
          "iopub.status.idle": "2025-10-16T17:12:37.455852Z",
          "shell.execute_reply.started": "2025-10-16T17:12:37.441817Z",
          "shell.execute_reply": "2025-10-16T17:12:37.454919Z"
        },
        "id": "pLBe6oy4QWYE",
        "outputId": "77c1546d-26fc-4f5f-b0bb-56dedc1da1d0"
      },
      "outputs": [
        {
          "name": "stdout",
          "text": "<class 'pandas.core.frame.DataFrame'>\nRangeIndex: 64374 entries, 0 to 64373\nData columns (total 16 columns):\n #   Column                      Non-Null Count  Dtype  \n---  ------                      --------------  -----  \n 0   customerid                  64374 non-null  int64  \n 1   age                         64374 non-null  int64  \n 2   gender                      64374 non-null  int64  \n 3   tenure                      64374 non-null  int64  \n 4   usage_frequency             64374 non-null  int64  \n 5   support_calls               64374 non-null  int64  \n 6   payment_delay               64374 non-null  int64  \n 7   total_spend                 64374 non-null  int64  \n 8   last_interaction            64374 non-null  int64  \n 9   churn                       64374 non-null  int64  \n 10  subscription_type_Basic     64374 non-null  float64\n 11  subscription_type_Premium   64374 non-null  float64\n 12  subscription_type_Standard  64374 non-null  float64\n 13  contract_length_Annual      64374 non-null  float64\n 14  contract_length_Monthly     64374 non-null  float64\n 15  contract_length_Quarterly   64374 non-null  float64\ndtypes: float64(6), int64(10)\nmemory usage: 7.9 MB\n",
          "output_type": "stream"
        }
      ],
      "execution_count": null
    },
    {
      "cell_type": "code",
      "source": [
        "# Split the Data\n",
        "\n",
        "X=df.drop(df[['churn','customerid']],axis=1)\n",
        "Y=df['churn']"
      ],
      "metadata": {
        "trusted": true,
        "execution": {
          "iopub.status.busy": "2025-10-16T17:13:13.627203Z",
          "iopub.execute_input": "2025-10-16T17:13:13.627493Z",
          "iopub.status.idle": "2025-10-16T17:13:13.639583Z",
          "shell.execute_reply.started": "2025-10-16T17:13:13.627468Z",
          "shell.execute_reply": "2025-10-16T17:13:13.63891Z"
        },
        "id": "8WbMKrSDQWYE"
      },
      "outputs": [],
      "execution_count": null
    },
    {
      "cell_type": "code",
      "source": [
        "print(X.shape,Y.shape)"
      ],
      "metadata": {
        "trusted": true,
        "execution": {
          "iopub.status.busy": "2025-10-16T17:13:27.231805Z",
          "iopub.execute_input": "2025-10-16T17:13:27.232075Z",
          "iopub.status.idle": "2025-10-16T17:13:27.236389Z",
          "shell.execute_reply.started": "2025-10-16T17:13:27.232055Z",
          "shell.execute_reply": "2025-10-16T17:13:27.235408Z"
        },
        "id": "cnL0qgNSQWYE",
        "outputId": "19cf6d0e-cebb-4511-f12b-28b9bad9faf3"
      },
      "outputs": [
        {
          "name": "stdout",
          "text": "(64374, 14) (64374,)\n",
          "output_type": "stream"
        }
      ],
      "execution_count": null
    },
    {
      "cell_type": "code",
      "source": [
        "# Training\n",
        "\n",
        "X_train,X_test,Y_train,Y_test=train_test_split(X,Y,test_size=0.2,random_state=42)\n",
        "print(X_train.shape,Y_train.shape)\n",
        "print(X_test.shape,Y_test.shape)"
      ],
      "metadata": {
        "trusted": true,
        "execution": {
          "iopub.status.busy": "2025-10-16T17:13:41.467352Z",
          "iopub.execute_input": "2025-10-16T17:13:41.467781Z",
          "iopub.status.idle": "2025-10-16T17:13:41.485917Z",
          "shell.execute_reply.started": "2025-10-16T17:13:41.467739Z",
          "shell.execute_reply": "2025-10-16T17:13:41.484799Z"
        },
        "id": "CKswo30zQWYE",
        "outputId": "5d9e18d0-07f1-446c-9e87-f95834ab058a"
      },
      "outputs": [
        {
          "name": "stdout",
          "text": "(51499, 14) (51499,)\n(12875, 14) (12875,)\n",
          "output_type": "stream"
        }
      ],
      "execution_count": null
    },
    {
      "cell_type": "code",
      "source": [
        "# Defining the Models\n",
        "models = {\n",
        "    'logreg': LogisticRegression(max_iter=1000, random_state=RANDOM_STATE, solver='saga'),\n",
        "    'rf': RandomForestClassifier(n_jobs=-1, random_state=RANDOM_STATE),\n",
        "    'gb': GradientBoostingClassifier(random_state=RANDOM_STATE),\n",
        "    'hgb': HistGradientBoostingClassifier(random_state=RANDOM_STATE) }"
      ],
      "metadata": {
        "trusted": true,
        "execution": {
          "iopub.status.busy": "2025-10-16T17:14:19.073876Z",
          "iopub.execute_input": "2025-10-16T17:14:19.074182Z",
          "iopub.status.idle": "2025-10-16T17:14:19.079533Z",
          "shell.execute_reply.started": "2025-10-16T17:14:19.074158Z",
          "shell.execute_reply": "2025-10-16T17:14:19.078614Z"
        },
        "id": "z_3NOUJOQWYE"
      },
      "outputs": [],
      "execution_count": null
    },
    {
      "cell_type": "code",
      "source": [
        "# Cross-validate and compare\n",
        "cv = StratifiedKFold(n_splits=5, shuffle=True, random_state=RANDOM_STATE)\n",
        "cv_results = {}\n",
        "\n",
        "for name, model in models.items():\n",
        "    print(f\"Training {name}...\")\n",
        "    scores = cross_val_score(model, X_train, Y_train, cv=cv, scoring='roc_auc', n_jobs=-1)\n",
        "    cv_results[name] = np.mean(scores)\n",
        "    print(f\"{name} Mean ROC AUC: {np.mean(scores):.4f}\")\n",
        "\n",
        "best_model_name = max(cv_results, key=cv_results.get)\n",
        "print(f\"\\nBest model: {best_model_name}\")"
      ],
      "metadata": {
        "trusted": true,
        "execution": {
          "iopub.status.busy": "2025-10-16T17:14:33.316417Z",
          "iopub.execute_input": "2025-10-16T17:14:33.316716Z",
          "iopub.status.idle": "2025-10-16T17:15:37.666073Z",
          "shell.execute_reply.started": "2025-10-16T17:14:33.316691Z",
          "shell.execute_reply": "2025-10-16T17:15:37.665237Z"
        },
        "id": "53rrUjnjQWYE",
        "outputId": "b13bb5dd-4dd1-4036-8c1b-21dee83bb12f"
      },
      "outputs": [
        {
          "name": "stdout",
          "text": "Training logreg...\n",
          "output_type": "stream"
        },
        {
          "name": "stderr",
          "text": "/usr/local/lib/python3.11/dist-packages/sklearn/linear_model/_sag.py:350: ConvergenceWarning: The max_iter was reached which means the coef_ did not converge\n  warnings.warn(\n/usr/local/lib/python3.11/dist-packages/sklearn/linear_model/_sag.py:350: ConvergenceWarning: The max_iter was reached which means the coef_ did not converge\n  warnings.warn(\n/usr/local/lib/python3.11/dist-packages/sklearn/linear_model/_sag.py:350: ConvergenceWarning: The max_iter was reached which means the coef_ did not converge\n  warnings.warn(\n/usr/local/lib/python3.11/dist-packages/sklearn/linear_model/_sag.py:350: ConvergenceWarning: The max_iter was reached which means the coef_ did not converge\n  warnings.warn(\n/usr/local/lib/python3.11/dist-packages/sklearn/linear_model/_sag.py:350: ConvergenceWarning: The max_iter was reached which means the coef_ did not converge\n  warnings.warn(\n",
          "output_type": "stream"
        },
        {
          "name": "stdout",
          "text": "logreg Mean ROC AUC: 0.8934\nTraining rf...\nrf Mean ROC AUC: 1.0000\nTraining gb...\ngb Mean ROC AUC: 0.9999\nTraining hgb...\nhgb Mean ROC AUC: 1.0000\n\nBest model: hgb\n",
          "output_type": "stream"
        }
      ],
      "execution_count": null
    },
    {
      "cell_type": "code",
      "source": [
        "# Train best model on full training data\n",
        "best_model = models[best_model_name]\n",
        "best_model.fit(X_train, Y_train)"
      ],
      "metadata": {
        "trusted": true,
        "execution": {
          "iopub.status.busy": "2025-10-16T17:26:26.502381Z",
          "iopub.execute_input": "2025-10-16T17:26:26.50271Z",
          "iopub.status.idle": "2025-10-16T17:26:27.379442Z",
          "shell.execute_reply.started": "2025-10-16T17:26:26.502686Z",
          "shell.execute_reply": "2025-10-16T17:26:27.378671Z"
        },
        "id": "kA3NurpQQWYF",
        "outputId": "0bc63b3f-2cee-434c-828d-d3d85119e2b4"
      },
      "outputs": [
        {
          "execution_count": 34,
          "output_type": "execute_result",
          "data": {
            "text/plain": "HistGradientBoostingClassifier(random_state=42)",
            "text/html": "<style>#sk-container-id-1 {color: black;background-color: white;}#sk-container-id-1 pre{padding: 0;}#sk-container-id-1 div.sk-toggleable {background-color: white;}#sk-container-id-1 label.sk-toggleable__label {cursor: pointer;display: block;width: 100%;margin-bottom: 0;padding: 0.3em;box-sizing: border-box;text-align: center;}#sk-container-id-1 label.sk-toggleable__label-arrow:before {content: \"▸\";float: left;margin-right: 0.25em;color: #696969;}#sk-container-id-1 label.sk-toggleable__label-arrow:hover:before {color: black;}#sk-container-id-1 div.sk-estimator:hover label.sk-toggleable__label-arrow:before {color: black;}#sk-container-id-1 div.sk-toggleable__content {max-height: 0;max-width: 0;overflow: hidden;text-align: left;background-color: #f0f8ff;}#sk-container-id-1 div.sk-toggleable__content pre {margin: 0.2em;color: black;border-radius: 0.25em;background-color: #f0f8ff;}#sk-container-id-1 input.sk-toggleable__control:checked~div.sk-toggleable__content {max-height: 200px;max-width: 100%;overflow: auto;}#sk-container-id-1 input.sk-toggleable__control:checked~label.sk-toggleable__label-arrow:before {content: \"▾\";}#sk-container-id-1 div.sk-estimator input.sk-toggleable__control:checked~label.sk-toggleable__label {background-color: #d4ebff;}#sk-container-id-1 div.sk-label input.sk-toggleable__control:checked~label.sk-toggleable__label {background-color: #d4ebff;}#sk-container-id-1 input.sk-hidden--visually {border: 0;clip: rect(1px 1px 1px 1px);clip: rect(1px, 1px, 1px, 1px);height: 1px;margin: -1px;overflow: hidden;padding: 0;position: absolute;width: 1px;}#sk-container-id-1 div.sk-estimator {font-family: monospace;background-color: #f0f8ff;border: 1px dotted black;border-radius: 0.25em;box-sizing: border-box;margin-bottom: 0.5em;}#sk-container-id-1 div.sk-estimator:hover {background-color: #d4ebff;}#sk-container-id-1 div.sk-parallel-item::after {content: \"\";width: 100%;border-bottom: 1px solid gray;flex-grow: 1;}#sk-container-id-1 div.sk-label:hover label.sk-toggleable__label {background-color: #d4ebff;}#sk-container-id-1 div.sk-serial::before {content: \"\";position: absolute;border-left: 1px solid gray;box-sizing: border-box;top: 0;bottom: 0;left: 50%;z-index: 0;}#sk-container-id-1 div.sk-serial {display: flex;flex-direction: column;align-items: center;background-color: white;padding-right: 0.2em;padding-left: 0.2em;position: relative;}#sk-container-id-1 div.sk-item {position: relative;z-index: 1;}#sk-container-id-1 div.sk-parallel {display: flex;align-items: stretch;justify-content: center;background-color: white;position: relative;}#sk-container-id-1 div.sk-item::before, #sk-container-id-1 div.sk-parallel-item::before {content: \"\";position: absolute;border-left: 1px solid gray;box-sizing: border-box;top: 0;bottom: 0;left: 50%;z-index: -1;}#sk-container-id-1 div.sk-parallel-item {display: flex;flex-direction: column;z-index: 1;position: relative;background-color: white;}#sk-container-id-1 div.sk-parallel-item:first-child::after {align-self: flex-end;width: 50%;}#sk-container-id-1 div.sk-parallel-item:last-child::after {align-self: flex-start;width: 50%;}#sk-container-id-1 div.sk-parallel-item:only-child::after {width: 0;}#sk-container-id-1 div.sk-dashed-wrapped {border: 1px dashed gray;margin: 0 0.4em 0.5em 0.4em;box-sizing: border-box;padding-bottom: 0.4em;background-color: white;}#sk-container-id-1 div.sk-label label {font-family: monospace;font-weight: bold;display: inline-block;line-height: 1.2em;}#sk-container-id-1 div.sk-label-container {text-align: center;}#sk-container-id-1 div.sk-container {/* jupyter's `normalize.less` sets `[hidden] { display: none; }` but bootstrap.min.css set `[hidden] { display: none !important; }` so we also need the `!important` here to be able to override the default hidden behavior on the sphinx rendered scikit-learn.org. See: https://github.com/scikit-learn/scikit-learn/issues/21755 */display: inline-block !important;position: relative;}#sk-container-id-1 div.sk-text-repr-fallback {display: none;}</style><div id=\"sk-container-id-1\" class=\"sk-top-container\"><div class=\"sk-text-repr-fallback\"><pre>HistGradientBoostingClassifier(random_state=42)</pre><b>In a Jupyter environment, please rerun this cell to show the HTML representation or trust the notebook. <br />On GitHub, the HTML representation is unable to render, please try loading this page with nbviewer.org.</b></div><div class=\"sk-container\" hidden><div class=\"sk-item\"><div class=\"sk-estimator sk-toggleable\"><input class=\"sk-toggleable__control sk-hidden--visually\" id=\"sk-estimator-id-1\" type=\"checkbox\" checked><label for=\"sk-estimator-id-1\" class=\"sk-toggleable__label sk-toggleable__label-arrow\">HistGradientBoostingClassifier</label><div class=\"sk-toggleable__content\"><pre>HistGradientBoostingClassifier(random_state=42)</pre></div></div></div></div></div>"
          },
          "metadata": {}
        }
      ],
      "execution_count": null
    },
    {
      "cell_type": "code",
      "source": [
        "y_pred = best_model.predict(X_test)\n",
        "y_proba = best_model.predict_proba(X_test)[:, 1]"
      ],
      "metadata": {
        "trusted": true,
        "execution": {
          "iopub.status.busy": "2025-10-16T17:26:40.990342Z",
          "iopub.execute_input": "2025-10-16T17:26:40.990644Z",
          "iopub.status.idle": "2025-10-16T17:26:41.083012Z",
          "shell.execute_reply.started": "2025-10-16T17:26:40.990618Z",
          "shell.execute_reply": "2025-10-16T17:26:41.08226Z"
        },
        "id": "hGx2-QgCQWYF"
      },
      "outputs": [],
      "execution_count": null
    },
    {
      "cell_type": "code",
      "source": [
        "print(\"\\nClassification Report:\")\n",
        "print(classification_report(Y_test, y_pred))\n",
        "\n",
        "print(f\"Test ROC AUC: {roc_auc_score(Y_test, y_proba):.4f}\")"
      ],
      "metadata": {
        "trusted": true,
        "execution": {
          "iopub.status.busy": "2025-10-16T17:26:57.449384Z",
          "iopub.execute_input": "2025-10-16T17:26:57.449806Z",
          "iopub.status.idle": "2025-10-16T17:26:57.487679Z",
          "shell.execute_reply.started": "2025-10-16T17:26:57.449779Z",
          "shell.execute_reply": "2025-10-16T17:26:57.486832Z"
        },
        "id": "RBoHqTbxQWYF",
        "outputId": "3f4d4455-e27f-498c-ed73-f3a97f16804c"
      },
      "outputs": [
        {
          "name": "stdout",
          "text": "\nClassification Report:\n              precision    recall  f1-score   support\n\n           0       1.00      1.00      1.00      6793\n           1       1.00      1.00      1.00      6082\n\n    accuracy                           1.00     12875\n   macro avg       1.00      1.00      1.00     12875\nweighted avg       1.00      1.00      1.00     12875\n\nTest ROC AUC: 1.0000\n",
          "output_type": "stream"
        }
      ],
      "execution_count": null
    },
    {
      "cell_type": "code",
      "source": [
        "cm = confusion_matrix(Y_test, y_pred)\n",
        "plt.figure(figsize=(6,4))\n",
        "sns.heatmap(cm, annot=True, fmt='d', cmap='Blues')\n",
        "plt.xlabel(\"Predicted\")\n",
        "plt.ylabel(\"Actual\")\n",
        "plt.title(f\"Confusion Matrix ({best_model_name})\")\n",
        "plt.show()"
      ],
      "metadata": {
        "trusted": true,
        "execution": {
          "iopub.status.busy": "2025-10-16T17:27:11.838881Z",
          "iopub.execute_input": "2025-10-16T17:27:11.839209Z",
          "iopub.status.idle": "2025-10-16T17:27:12.026164Z",
          "shell.execute_reply.started": "2025-10-16T17:27:11.839183Z",
          "shell.execute_reply": "2025-10-16T17:27:12.025175Z"
        },
        "id": "TdLYwfCzQWYF",
        "outputId": "83658333-84ab-49d5-e968-e8ed7ec08e5d"
      },
      "outputs": [
        {
          "output_type": "display_data",
          "data": {
            "text/plain": "<Figure size 600x400 with 2 Axes>",
            "image/png": "[encoded data removed]"
          },
          "metadata": {}
        }
      ],
      "execution_count": null
    },
    {
      "cell_type": "code",
      "source": [
        "# Save the trained model\n",
        "joblib.dump(best_model, \"best_churn_model.joblib\")\n",
        "print(\" Model  saved.\")"
      ],
      "metadata": {
        "trusted": true,
        "execution": {
          "iopub.status.busy": "2025-10-16T17:27:23.705449Z",
          "iopub.execute_input": "2025-10-16T17:27:23.706421Z",
          "iopub.status.idle": "2025-10-16T17:27:23.732469Z",
          "shell.execute_reply.started": "2025-10-16T17:27:23.706389Z",
          "shell.execute_reply": "2025-10-16T17:27:23.731473Z"
        },
        "id": "DeQ1u6adQWYF",
        "outputId": "48b5517f-0d03-4150-aa5d-26f3459466f0"
      },
      "outputs": [
        {
          "name": "stdout",
          "text": " Model  saved.\n",
          "output_type": "stream"
        }
      ],
      "execution_count": null
    },
    {
      "cell_type": "code",
      "source": [
        "# Making a Predictive System\n",
        "\n",
        "import pandas as pd\n",
        "import joblib\n",
        "\n",
        "def predict_churn(new_data):\n",
        "    # Load model\n",
        "    model = joblib.load(\"best_churn_model.joblib\")\n",
        "\n",
        "    # Convert input to DataFrame (must have same columns as training X)\n",
        "    new_df = pd.DataFrame([new_data])\n",
        "\n",
        "    # Predict\n",
        "    pred = model.predict(new_df)[0]\n",
        "    proba = model.predict_proba(new_df)[0][1]\n",
        "\n",
        "    return pred, proba"
      ],
      "metadata": {
        "trusted": true,
        "execution": {
          "iopub.status.busy": "2025-10-16T17:27:44.065584Z",
          "iopub.execute_input": "2025-10-16T17:27:44.066572Z",
          "iopub.status.idle": "2025-10-16T17:27:44.071784Z",
          "shell.execute_reply.started": "2025-10-16T17:27:44.066538Z",
          "shell.execute_reply": "2025-10-16T17:27:44.070759Z"
        },
        "id": "IZJKZd9BQWYF"
      },
      "outputs": [],
      "execution_count": null
    },
    {
      "cell_type": "code",
      "source": [
        "new_customer = {\n",
        "    'age': 22,\n",
        "    'gender': 0,\n",
        "    'tenure': 25,\n",
        "    'usage_frequency': 14,\n",
        "    'support_calls': 4,\n",
        "    'payment_delay': 27,\n",
        "    'total_spend': 598,\n",
        "    'last_interaction': 9,\n",
        "    'subscription_type_Basic': 1,\n",
        "    'subscription_type_Premium': 0,\n",
        "    'subscription_type_Standard': 0,\n",
        "    'contract_length_Annual': 0,\n",
        "    'contract_length_Monthly': 1,\n",
        "    'contract_length_Quarterly': 0\n",
        "}\n",
        "\n",
        "pred, proba = predict_churn(new_customer)\n",
        "\n",
        "print(f\"Predicted Churn: {'Yes' if pred==1 else 'No'}\")\n",
        "print(f\"Churn Probability is: {proba:.2%}\")"
      ],
      "metadata": {
        "trusted": true,
        "execution": {
          "iopub.status.busy": "2025-10-16T17:29:26.449476Z",
          "iopub.execute_input": "2025-10-16T17:29:26.449901Z",
          "iopub.status.idle": "2025-10-16T17:29:26.485356Z",
          "shell.execute_reply.started": "2025-10-16T17:29:26.449876Z",
          "shell.execute_reply": "2025-10-16T17:29:26.483771Z"
        },
        "id": "1A_Mgo_vQWYF",
        "outputId": "26eb9343-7413-4d68-a971-d473f7222311"
      },
      "outputs": [
        {
          "name": "stdout",
          "text": "Predicted Churn: Yes\nChurn Probability is: 99.75%\n",
          "output_type": "stream"
        }
      ],
      "execution_count": null
    }
  ]
}